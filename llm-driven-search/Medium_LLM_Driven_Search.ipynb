{
  "nbformat": 4,
  "nbformat_minor": 0,
  "metadata": {
    "colab": {
      "provenance": [],
      "gpuType": "T4"
    },
    "kernelspec": {
      "name": "python3",
      "display_name": "Python 3"
    },
    "language_info": {
      "name": "python"
    },
    "accelerator": "GPU",
    "widgets": {
      "application/vnd.jupyter.widget-state+json": {
        "64f32a29824e4c7eadb8aad92b5381f2": {
          "model_module": "@jupyter-widgets/controls",
          "model_name": "HBoxModel",
          "model_module_version": "1.5.0",
          "state": {
            "_dom_classes": [],
            "_model_module": "@jupyter-widgets/controls",
            "_model_module_version": "1.5.0",
            "_model_name": "HBoxModel",
            "_view_count": null,
            "_view_module": "@jupyter-widgets/controls",
            "_view_module_version": "1.5.0",
            "_view_name": "HBoxView",
            "box_style": "",
            "children": [
              "IPY_MODEL_10565556da874fe9b394ad00ab6afcf0",
              "IPY_MODEL_5a53ca0982d148d288485714a9d5bc71",
              "IPY_MODEL_66ef96644df84321984f79257513b981"
            ],
            "layout": "IPY_MODEL_7fa2a135e6bd4e88b1f5af255322f29e"
          }
        },
        "10565556da874fe9b394ad00ab6afcf0": {
          "model_module": "@jupyter-widgets/controls",
          "model_name": "HTMLModel",
          "model_module_version": "1.5.0",
          "state": {
            "_dom_classes": [],
            "_model_module": "@jupyter-widgets/controls",
            "_model_module_version": "1.5.0",
            "_model_name": "HTMLModel",
            "_view_count": null,
            "_view_module": "@jupyter-widgets/controls",
            "_view_module_version": "1.5.0",
            "_view_name": "HTMLView",
            "description": "",
            "description_tooltip": null,
            "layout": "IPY_MODEL_863b71c9175648958addebd8d9d55521",
            "placeholder": "​",
            "style": "IPY_MODEL_c2e72e907ad0420bbf84f18afe202f8a",
            "value": "Fetching 1 files: 100%"
          }
        },
        "5a53ca0982d148d288485714a9d5bc71": {
          "model_module": "@jupyter-widgets/controls",
          "model_name": "FloatProgressModel",
          "model_module_version": "1.5.0",
          "state": {
            "_dom_classes": [],
            "_model_module": "@jupyter-widgets/controls",
            "_model_module_version": "1.5.0",
            "_model_name": "FloatProgressModel",
            "_view_count": null,
            "_view_module": "@jupyter-widgets/controls",
            "_view_module_version": "1.5.0",
            "_view_name": "ProgressView",
            "bar_style": "success",
            "description": "",
            "description_tooltip": null,
            "layout": "IPY_MODEL_2ea5377037a14ab08962b580be871418",
            "max": 1,
            "min": 0,
            "orientation": "horizontal",
            "style": "IPY_MODEL_1bf925298d1546e88ec627c424d70e6e",
            "value": 1
          }
        },
        "66ef96644df84321984f79257513b981": {
          "model_module": "@jupyter-widgets/controls",
          "model_name": "HTMLModel",
          "model_module_version": "1.5.0",
          "state": {
            "_dom_classes": [],
            "_model_module": "@jupyter-widgets/controls",
            "_model_module_version": "1.5.0",
            "_model_name": "HTMLModel",
            "_view_count": null,
            "_view_module": "@jupyter-widgets/controls",
            "_view_module_version": "1.5.0",
            "_view_name": "HTMLView",
            "description": "",
            "description_tooltip": null,
            "layout": "IPY_MODEL_66ac42a3a20243a09b31442ea37c756c",
            "placeholder": "​",
            "style": "IPY_MODEL_21de32144aa84ea48c3b192f04bfcb2b",
            "value": " 1/1 [00:00&lt;00:00, 53.68it/s]"
          }
        },
        "7fa2a135e6bd4e88b1f5af255322f29e": {
          "model_module": "@jupyter-widgets/base",
          "model_name": "LayoutModel",
          "model_module_version": "1.2.0",
          "state": {
            "_model_module": "@jupyter-widgets/base",
            "_model_module_version": "1.2.0",
            "_model_name": "LayoutModel",
            "_view_count": null,
            "_view_module": "@jupyter-widgets/base",
            "_view_module_version": "1.2.0",
            "_view_name": "LayoutView",
            "align_content": null,
            "align_items": null,
            "align_self": null,
            "border": null,
            "bottom": null,
            "display": null,
            "flex": null,
            "flex_flow": null,
            "grid_area": null,
            "grid_auto_columns": null,
            "grid_auto_flow": null,
            "grid_auto_rows": null,
            "grid_column": null,
            "grid_gap": null,
            "grid_row": null,
            "grid_template_areas": null,
            "grid_template_columns": null,
            "grid_template_rows": null,
            "height": null,
            "justify_content": null,
            "justify_items": null,
            "left": null,
            "margin": null,
            "max_height": null,
            "max_width": null,
            "min_height": null,
            "min_width": null,
            "object_fit": null,
            "object_position": null,
            "order": null,
            "overflow": null,
            "overflow_x": null,
            "overflow_y": null,
            "padding": null,
            "right": null,
            "top": null,
            "visibility": null,
            "width": null
          }
        },
        "863b71c9175648958addebd8d9d55521": {
          "model_module": "@jupyter-widgets/base",
          "model_name": "LayoutModel",
          "model_module_version": "1.2.0",
          "state": {
            "_model_module": "@jupyter-widgets/base",
            "_model_module_version": "1.2.0",
            "_model_name": "LayoutModel",
            "_view_count": null,
            "_view_module": "@jupyter-widgets/base",
            "_view_module_version": "1.2.0",
            "_view_name": "LayoutView",
            "align_content": null,
            "align_items": null,
            "align_self": null,
            "border": null,
            "bottom": null,
            "display": null,
            "flex": null,
            "flex_flow": null,
            "grid_area": null,
            "grid_auto_columns": null,
            "grid_auto_flow": null,
            "grid_auto_rows": null,
            "grid_column": null,
            "grid_gap": null,
            "grid_row": null,
            "grid_template_areas": null,
            "grid_template_columns": null,
            "grid_template_rows": null,
            "height": null,
            "justify_content": null,
            "justify_items": null,
            "left": null,
            "margin": null,
            "max_height": null,
            "max_width": null,
            "min_height": null,
            "min_width": null,
            "object_fit": null,
            "object_position": null,
            "order": null,
            "overflow": null,
            "overflow_x": null,
            "overflow_y": null,
            "padding": null,
            "right": null,
            "top": null,
            "visibility": null,
            "width": null
          }
        },
        "c2e72e907ad0420bbf84f18afe202f8a": {
          "model_module": "@jupyter-widgets/controls",
          "model_name": "DescriptionStyleModel",
          "model_module_version": "1.5.0",
          "state": {
            "_model_module": "@jupyter-widgets/controls",
            "_model_module_version": "1.5.0",
            "_model_name": "DescriptionStyleModel",
            "_view_count": null,
            "_view_module": "@jupyter-widgets/base",
            "_view_module_version": "1.2.0",
            "_view_name": "StyleView",
            "description_width": ""
          }
        },
        "2ea5377037a14ab08962b580be871418": {
          "model_module": "@jupyter-widgets/base",
          "model_name": "LayoutModel",
          "model_module_version": "1.2.0",
          "state": {
            "_model_module": "@jupyter-widgets/base",
            "_model_module_version": "1.2.0",
            "_model_name": "LayoutModel",
            "_view_count": null,
            "_view_module": "@jupyter-widgets/base",
            "_view_module_version": "1.2.0",
            "_view_name": "LayoutView",
            "align_content": null,
            "align_items": null,
            "align_self": null,
            "border": null,
            "bottom": null,
            "display": null,
            "flex": null,
            "flex_flow": null,
            "grid_area": null,
            "grid_auto_columns": null,
            "grid_auto_flow": null,
            "grid_auto_rows": null,
            "grid_column": null,
            "grid_gap": null,
            "grid_row": null,
            "grid_template_areas": null,
            "grid_template_columns": null,
            "grid_template_rows": null,
            "height": null,
            "justify_content": null,
            "justify_items": null,
            "left": null,
            "margin": null,
            "max_height": null,
            "max_width": null,
            "min_height": null,
            "min_width": null,
            "object_fit": null,
            "object_position": null,
            "order": null,
            "overflow": null,
            "overflow_x": null,
            "overflow_y": null,
            "padding": null,
            "right": null,
            "top": null,
            "visibility": null,
            "width": null
          }
        },
        "1bf925298d1546e88ec627c424d70e6e": {
          "model_module": "@jupyter-widgets/controls",
          "model_name": "ProgressStyleModel",
          "model_module_version": "1.5.0",
          "state": {
            "_model_module": "@jupyter-widgets/controls",
            "_model_module_version": "1.5.0",
            "_model_name": "ProgressStyleModel",
            "_view_count": null,
            "_view_module": "@jupyter-widgets/base",
            "_view_module_version": "1.2.0",
            "_view_name": "StyleView",
            "bar_color": null,
            "description_width": ""
          }
        },
        "66ac42a3a20243a09b31442ea37c756c": {
          "model_module": "@jupyter-widgets/base",
          "model_name": "LayoutModel",
          "model_module_version": "1.2.0",
          "state": {
            "_model_module": "@jupyter-widgets/base",
            "_model_module_version": "1.2.0",
            "_model_name": "LayoutModel",
            "_view_count": null,
            "_view_module": "@jupyter-widgets/base",
            "_view_module_version": "1.2.0",
            "_view_name": "LayoutView",
            "align_content": null,
            "align_items": null,
            "align_self": null,
            "border": null,
            "bottom": null,
            "display": null,
            "flex": null,
            "flex_flow": null,
            "grid_area": null,
            "grid_auto_columns": null,
            "grid_auto_flow": null,
            "grid_auto_rows": null,
            "grid_column": null,
            "grid_gap": null,
            "grid_row": null,
            "grid_template_areas": null,
            "grid_template_columns": null,
            "grid_template_rows": null,
            "height": null,
            "justify_content": null,
            "justify_items": null,
            "left": null,
            "margin": null,
            "max_height": null,
            "max_width": null,
            "min_height": null,
            "min_width": null,
            "object_fit": null,
            "object_position": null,
            "order": null,
            "overflow": null,
            "overflow_x": null,
            "overflow_y": null,
            "padding": null,
            "right": null,
            "top": null,
            "visibility": null,
            "width": null
          }
        },
        "21de32144aa84ea48c3b192f04bfcb2b": {
          "model_module": "@jupyter-widgets/controls",
          "model_name": "DescriptionStyleModel",
          "model_module_version": "1.5.0",
          "state": {
            "_model_module": "@jupyter-widgets/controls",
            "_model_module_version": "1.5.0",
            "_model_name": "DescriptionStyleModel",
            "_view_count": null,
            "_view_module": "@jupyter-widgets/base",
            "_view_module_version": "1.2.0",
            "_view_name": "StyleView",
            "description_width": ""
          }
        },
        "78beede345ae4ee4b9b18fc2053ac284": {
          "model_module": "@jupyter-widgets/controls",
          "model_name": "HBoxModel",
          "model_module_version": "1.5.0",
          "state": {
            "_dom_classes": [],
            "_model_module": "@jupyter-widgets/controls",
            "_model_module_version": "1.5.0",
            "_model_name": "HBoxModel",
            "_view_count": null,
            "_view_module": "@jupyter-widgets/controls",
            "_view_module_version": "1.5.0",
            "_view_name": "HBoxView",
            "box_style": "",
            "children": [
              "IPY_MODEL_8cf2e92541014802a471968be284045d",
              "IPY_MODEL_49fd4c1abe5e40af9db1aa9f488dcd56",
              "IPY_MODEL_2e30b4d14d184112bb414e5b9cda5a7e"
            ],
            "layout": "IPY_MODEL_4c5bbd5ddd2f4e8caf4fb28a58220465"
          }
        },
        "8cf2e92541014802a471968be284045d": {
          "model_module": "@jupyter-widgets/controls",
          "model_name": "HTMLModel",
          "model_module_version": "1.5.0",
          "state": {
            "_dom_classes": [],
            "_model_module": "@jupyter-widgets/controls",
            "_model_module_version": "1.5.0",
            "_model_name": "HTMLModel",
            "_view_count": null,
            "_view_module": "@jupyter-widgets/controls",
            "_view_module_version": "1.5.0",
            "_view_name": "HTMLView",
            "description": "",
            "description_tooltip": null,
            "layout": "IPY_MODEL_a7b3d16aca2b4768b10422e83b49a550",
            "placeholder": "​",
            "style": "IPY_MODEL_e5431fc66c3b4576910a774ef1cc0982",
            "value": "Fetching 1 files: 100%"
          }
        },
        "49fd4c1abe5e40af9db1aa9f488dcd56": {
          "model_module": "@jupyter-widgets/controls",
          "model_name": "FloatProgressModel",
          "model_module_version": "1.5.0",
          "state": {
            "_dom_classes": [],
            "_model_module": "@jupyter-widgets/controls",
            "_model_module_version": "1.5.0",
            "_model_name": "FloatProgressModel",
            "_view_count": null,
            "_view_module": "@jupyter-widgets/controls",
            "_view_module_version": "1.5.0",
            "_view_name": "ProgressView",
            "bar_style": "success",
            "description": "",
            "description_tooltip": null,
            "layout": "IPY_MODEL_4e89e94636634e6d8fe743f7b053c074",
            "max": 1,
            "min": 0,
            "orientation": "horizontal",
            "style": "IPY_MODEL_5123dce092fe48ca80260f7474788326",
            "value": 1
          }
        },
        "2e30b4d14d184112bb414e5b9cda5a7e": {
          "model_module": "@jupyter-widgets/controls",
          "model_name": "HTMLModel",
          "model_module_version": "1.5.0",
          "state": {
            "_dom_classes": [],
            "_model_module": "@jupyter-widgets/controls",
            "_model_module_version": "1.5.0",
            "_model_name": "HTMLModel",
            "_view_count": null,
            "_view_module": "@jupyter-widgets/controls",
            "_view_module_version": "1.5.0",
            "_view_name": "HTMLView",
            "description": "",
            "description_tooltip": null,
            "layout": "IPY_MODEL_9a56a09c32fd42bcbcf1e880a180db84",
            "placeholder": "​",
            "style": "IPY_MODEL_d00cd08ed0064fcdbadc3dcadc483ce3",
            "value": " 1/1 [00:00&lt;00:00, 63.41it/s]"
          }
        },
        "4c5bbd5ddd2f4e8caf4fb28a58220465": {
          "model_module": "@jupyter-widgets/base",
          "model_name": "LayoutModel",
          "model_module_version": "1.2.0",
          "state": {
            "_model_module": "@jupyter-widgets/base",
            "_model_module_version": "1.2.0",
            "_model_name": "LayoutModel",
            "_view_count": null,
            "_view_module": "@jupyter-widgets/base",
            "_view_module_version": "1.2.0",
            "_view_name": "LayoutView",
            "align_content": null,
            "align_items": null,
            "align_self": null,
            "border": null,
            "bottom": null,
            "display": null,
            "flex": null,
            "flex_flow": null,
            "grid_area": null,
            "grid_auto_columns": null,
            "grid_auto_flow": null,
            "grid_auto_rows": null,
            "grid_column": null,
            "grid_gap": null,
            "grid_row": null,
            "grid_template_areas": null,
            "grid_template_columns": null,
            "grid_template_rows": null,
            "height": null,
            "justify_content": null,
            "justify_items": null,
            "left": null,
            "margin": null,
            "max_height": null,
            "max_width": null,
            "min_height": null,
            "min_width": null,
            "object_fit": null,
            "object_position": null,
            "order": null,
            "overflow": null,
            "overflow_x": null,
            "overflow_y": null,
            "padding": null,
            "right": null,
            "top": null,
            "visibility": null,
            "width": null
          }
        },
        "a7b3d16aca2b4768b10422e83b49a550": {
          "model_module": "@jupyter-widgets/base",
          "model_name": "LayoutModel",
          "model_module_version": "1.2.0",
          "state": {
            "_model_module": "@jupyter-widgets/base",
            "_model_module_version": "1.2.0",
            "_model_name": "LayoutModel",
            "_view_count": null,
            "_view_module": "@jupyter-widgets/base",
            "_view_module_version": "1.2.0",
            "_view_name": "LayoutView",
            "align_content": null,
            "align_items": null,
            "align_self": null,
            "border": null,
            "bottom": null,
            "display": null,
            "flex": null,
            "flex_flow": null,
            "grid_area": null,
            "grid_auto_columns": null,
            "grid_auto_flow": null,
            "grid_auto_rows": null,
            "grid_column": null,
            "grid_gap": null,
            "grid_row": null,
            "grid_template_areas": null,
            "grid_template_columns": null,
            "grid_template_rows": null,
            "height": null,
            "justify_content": null,
            "justify_items": null,
            "left": null,
            "margin": null,
            "max_height": null,
            "max_width": null,
            "min_height": null,
            "min_width": null,
            "object_fit": null,
            "object_position": null,
            "order": null,
            "overflow": null,
            "overflow_x": null,
            "overflow_y": null,
            "padding": null,
            "right": null,
            "top": null,
            "visibility": null,
            "width": null
          }
        },
        "e5431fc66c3b4576910a774ef1cc0982": {
          "model_module": "@jupyter-widgets/controls",
          "model_name": "DescriptionStyleModel",
          "model_module_version": "1.5.0",
          "state": {
            "_model_module": "@jupyter-widgets/controls",
            "_model_module_version": "1.5.0",
            "_model_name": "DescriptionStyleModel",
            "_view_count": null,
            "_view_module": "@jupyter-widgets/base",
            "_view_module_version": "1.2.0",
            "_view_name": "StyleView",
            "description_width": ""
          }
        },
        "4e89e94636634e6d8fe743f7b053c074": {
          "model_module": "@jupyter-widgets/base",
          "model_name": "LayoutModel",
          "model_module_version": "1.2.0",
          "state": {
            "_model_module": "@jupyter-widgets/base",
            "_model_module_version": "1.2.0",
            "_model_name": "LayoutModel",
            "_view_count": null,
            "_view_module": "@jupyter-widgets/base",
            "_view_module_version": "1.2.0",
            "_view_name": "LayoutView",
            "align_content": null,
            "align_items": null,
            "align_self": null,
            "border": null,
            "bottom": null,
            "display": null,
            "flex": null,
            "flex_flow": null,
            "grid_area": null,
            "grid_auto_columns": null,
            "grid_auto_flow": null,
            "grid_auto_rows": null,
            "grid_column": null,
            "grid_gap": null,
            "grid_row": null,
            "grid_template_areas": null,
            "grid_template_columns": null,
            "grid_template_rows": null,
            "height": null,
            "justify_content": null,
            "justify_items": null,
            "left": null,
            "margin": null,
            "max_height": null,
            "max_width": null,
            "min_height": null,
            "min_width": null,
            "object_fit": null,
            "object_position": null,
            "order": null,
            "overflow": null,
            "overflow_x": null,
            "overflow_y": null,
            "padding": null,
            "right": null,
            "top": null,
            "visibility": null,
            "width": null
          }
        },
        "5123dce092fe48ca80260f7474788326": {
          "model_module": "@jupyter-widgets/controls",
          "model_name": "ProgressStyleModel",
          "model_module_version": "1.5.0",
          "state": {
            "_model_module": "@jupyter-widgets/controls",
            "_model_module_version": "1.5.0",
            "_model_name": "ProgressStyleModel",
            "_view_count": null,
            "_view_module": "@jupyter-widgets/base",
            "_view_module_version": "1.2.0",
            "_view_name": "StyleView",
            "bar_color": null,
            "description_width": ""
          }
        },
        "9a56a09c32fd42bcbcf1e880a180db84": {
          "model_module": "@jupyter-widgets/base",
          "model_name": "LayoutModel",
          "model_module_version": "1.2.0",
          "state": {
            "_model_module": "@jupyter-widgets/base",
            "_model_module_version": "1.2.0",
            "_model_name": "LayoutModel",
            "_view_count": null,
            "_view_module": "@jupyter-widgets/base",
            "_view_module_version": "1.2.0",
            "_view_name": "LayoutView",
            "align_content": null,
            "align_items": null,
            "align_self": null,
            "border": null,
            "bottom": null,
            "display": null,
            "flex": null,
            "flex_flow": null,
            "grid_area": null,
            "grid_auto_columns": null,
            "grid_auto_flow": null,
            "grid_auto_rows": null,
            "grid_column": null,
            "grid_gap": null,
            "grid_row": null,
            "grid_template_areas": null,
            "grid_template_columns": null,
            "grid_template_rows": null,
            "height": null,
            "justify_content": null,
            "justify_items": null,
            "left": null,
            "margin": null,
            "max_height": null,
            "max_width": null,
            "min_height": null,
            "min_width": null,
            "object_fit": null,
            "object_position": null,
            "order": null,
            "overflow": null,
            "overflow_x": null,
            "overflow_y": null,
            "padding": null,
            "right": null,
            "top": null,
            "visibility": null,
            "width": null
          }
        },
        "d00cd08ed0064fcdbadc3dcadc483ce3": {
          "model_module": "@jupyter-widgets/controls",
          "model_name": "DescriptionStyleModel",
          "model_module_version": "1.5.0",
          "state": {
            "_model_module": "@jupyter-widgets/controls",
            "_model_module_version": "1.5.0",
            "_model_name": "DescriptionStyleModel",
            "_view_count": null,
            "_view_module": "@jupyter-widgets/base",
            "_view_module_version": "1.2.0",
            "_view_name": "StyleView",
            "description_width": ""
          }
        }
      }
    }
  },
  "cells": [
    {
      "cell_type": "markdown",
      "source": [
        "# LLM-Driven Search in Python\n",
        "\n",
        "Check out the code on GitHub: [github.com/AWeirdScratcher/large](https://github.com/AWeirdScratcher/large).\n",
        "\n",
        "If you do have (T4) GPU, please consider using it. It'll take a long time to calculate the embeddings without it.\n",
        "\n",
        "Pro tip: just don't follow the routine in the states to get that sweet non-peak time perks.\n",
        "\n",
        "<br />\n",
        "\n",
        "<details>\n",
        "  <summary>...After you read the post</summary>\n",
        "\n",
        "Yup, I have no idea what I was saying in the article because I was just having fun with `ctransformers` and embeddings, then thought it'd be fun to make this Medium post...\n",
        "\n",
        "I still have no idea what *cosine similarity* is in the way \"math people\" would understand it. But hey, we've got the concept explained with balls (or marbles, yeah).\n",
        "\n",
        "</details>"
      ],
      "metadata": {
        "id": "Cq4CBb0ULRIR"
      }
    },
    {
      "cell_type": "code",
      "execution_count": 1,
      "metadata": {
        "id": "7jWwr-XYLOU4"
      },
      "outputs": [],
      "source": [
        "%%capture\n",
        "!pip install ctransformers ctransformers[cuda]"
      ]
    },
    {
      "cell_type": "markdown",
      "source": [
        "## Generating Text\n",
        "\n",
        "It'll take a while to download the model (if it's the first time running in this environment).\n",
        "\n",
        "Ask whatever you want.\n",
        "\n",
        "Note that it's uncensored, so be appropriate, guys."
      ],
      "metadata": {
        "id": "Bpu0WuFWM4ZW"
      }
    },
    {
      "cell_type": "code",
      "source": [
        "from ctransformers import AutoModelForCausalLM\n",
        "\n",
        "llm = AutoModelForCausalLM.from_pretrained(\n",
        "    \"TheBloke/Mistral-7B-Instruct-v0.2-GGUF\",\n",
        "    model_type=\"llama\",\n",
        "    gpu_layers=50\n",
        "  )\n",
        "print(llm(\"Hello, I'm\"))"
      ],
      "metadata": {
        "colab": {
          "base_uri": "https://localhost:8080/",
          "height": 396,
          "referenced_widgets": [
            "64f32a29824e4c7eadb8aad92b5381f2",
            "10565556da874fe9b394ad00ab6afcf0",
            "5a53ca0982d148d288485714a9d5bc71",
            "66ef96644df84321984f79257513b981",
            "7fa2a135e6bd4e88b1f5af255322f29e",
            "863b71c9175648958addebd8d9d55521",
            "c2e72e907ad0420bbf84f18afe202f8a",
            "2ea5377037a14ab08962b580be871418",
            "1bf925298d1546e88ec627c424d70e6e",
            "66ac42a3a20243a09b31442ea37c756c",
            "21de32144aa84ea48c3b192f04bfcb2b",
            "78beede345ae4ee4b9b18fc2053ac284",
            "8cf2e92541014802a471968be284045d",
            "49fd4c1abe5e40af9db1aa9f488dcd56",
            "2e30b4d14d184112bb414e5b9cda5a7e",
            "4c5bbd5ddd2f4e8caf4fb28a58220465",
            "a7b3d16aca2b4768b10422e83b49a550",
            "e5431fc66c3b4576910a774ef1cc0982",
            "4e89e94636634e6d8fe743f7b053c074",
            "5123dce092fe48ca80260f7474788326",
            "9a56a09c32fd42bcbcf1e880a180db84",
            "d00cd08ed0064fcdbadc3dcadc483ce3"
          ]
        },
        "id": "RExuHanAMeUN",
        "outputId": "65717fc2-8041-47ff-cbe8-008bc141dc32"
      },
      "execution_count": 2,
      "outputs": [
        {
          "output_type": "stream",
          "name": "stderr",
          "text": [
            "/usr/local/lib/python3.10/dist-packages/huggingface_hub/utils/_token.py:88: UserWarning: \n",
            "The secret `HF_TOKEN` does not exist in your Colab secrets.\n",
            "To authenticate with the Hugging Face Hub, create a token in your settings tab (https://huggingface.co/settings/tokens), set it as secret in your Google Colab and restart your session.\n",
            "You will be able to reuse this secret in all of your notebooks.\n",
            "Please note that authentication is recommended but still optional to access public models or datasets.\n",
            "  warnings.warn(\n"
          ]
        },
        {
          "output_type": "display_data",
          "data": {
            "text/plain": [
              "Fetching 1 files:   0%|          | 0/1 [00:00<?, ?it/s]"
            ],
            "application/vnd.jupyter.widget-view+json": {
              "version_major": 2,
              "version_minor": 0,
              "model_id": "64f32a29824e4c7eadb8aad92b5381f2"
            }
          },
          "metadata": {}
        },
        {
          "output_type": "display_data",
          "data": {
            "text/plain": [
              "Fetching 1 files:   0%|          | 0/1 [00:00<?, ?it/s]"
            ],
            "application/vnd.jupyter.widget-view+json": {
              "version_major": 2,
              "version_minor": 0,
              "model_id": "78beede345ae4ee4b9b18fc2053ac284"
            }
          },
          "metadata": {}
        },
        {
          "output_type": "stream",
          "name": "stdout",
          "text": [
            " having trouble getting my new S3 to sync with my Google account. I have a Gmail account and I've set up the account on my phone, but when I go to Settings > Accounts > Add account > Google, it says \"This device is already associated with this account.\"\n",
            "\n",
            "I can still see the 3 gmail accounts that were previously synced on my previous Samsung S4.\n",
            "\n",
            "How do I get my new S3 to sync with my primary Google account? Thanks!\n",
            "\n",
            "The solution here seems simple: Remove your existing accounts from the phone and add them again, this time entering your full Gmail address (user@gmail.com) and password. The reason for the problem is that the accounts are already associated with your Samsung account, which is tied to your old device. When you add a new device, it will not recognize the existing accounts and instead display the \"already associated\" message.\n",
            "\n",
            "To remove the existing accounts from your phone:\n",
            "1. Go to Settings > Accounts and backup > Backup my data (tap on it).\n",
            "2. Tap on Backup access information, enter your Google account details when prompted and then tap Done. This step will allow you to restore\n"
          ]
        }
      ]
    },
    {
      "cell_type": "markdown",
      "source": [
        "### Bonus: Chat Template & Streaming\n",
        "\n",
        "The chat template is like this:\n",
        "\n",
        "```markdown\n",
        "<s> [INST] <text> [/INST]\n",
        "```\n",
        "\n",
        "The model would respond after the `[/INST]` block until it hits `</s>` token.\n",
        "\n",
        "`ctransformers` also supports streaming text, so you can see how well/fast the model performs as you run it."
      ],
      "metadata": {
        "id": "OnDLZcttNGix"
      }
    },
    {
      "cell_type": "code",
      "source": [
        "response = llm(\"\"\"<s> [INST] Do you like cheese? [/INST] \"\"\", stream=True)\n",
        "\n",
        "for chunk in response:\n",
        "  print(chunk, end=\"\", flush=True)"
      ],
      "metadata": {
        "colab": {
          "base_uri": "https://localhost:8080/"
        },
        "id": "eFxeK0biNe-C",
        "outputId": "cf81b2b2-32df-45ff-a301-f92a90a62e17"
      },
      "execution_count": 3,
      "outputs": [
        {
          "output_type": "stream",
          "name": "stdout",
          "text": [
            "Yes, I do! However, I'm an artificial intelligence and don't have the ability to eat or have preferences. But if I were a human, I would enjoy cheese because of its delicious taste and various health benefits."
          ]
        }
      ]
    },
    {
      "cell_type": "markdown",
      "source": [
        "## Embeddings\n",
        "\n",
        "Embeddings are just an alias of \"dayum, lots of numbers.\""
      ],
      "metadata": {
        "id": "-F6NuKJjOQnk"
      }
    },
    {
      "cell_type": "code",
      "source": [
        "# generate an embedding\n",
        "llm.embed(\"Who doesn't love salad?\")[:10] # seek the first 10 elements"
      ],
      "metadata": {
        "colab": {
          "base_uri": "https://localhost:8080/"
        },
        "id": "UO9y-x_dOfPp",
        "outputId": "12f56c8a-8d22-4d1d-d552-c01835b67d56"
      },
      "execution_count": 4,
      "outputs": [
        {
          "output_type": "execute_result",
          "data": {
            "text/plain": [
              "[4.361037254333496,\n",
              " -3.859196662902832,\n",
              " 2.4968769550323486,\n",
              " -6.219364643096924,\n",
              " 2.3137431144714355,\n",
              " 0.06731189787387848,\n",
              " -0.6585761904716492,\n",
              " 0.8220970034599304,\n",
              " 0.005442762281745672,\n",
              " 2.353245735168457]"
            ]
          },
          "metadata": {},
          "execution_count": 4
        }
      ]
    },
    {
      "cell_type": "code",
      "source": [
        "import requests\n",
        "\n",
        "raw = requests.get(\"https://raw.githubusercontent.com/AWeirdScratcher/large/main/llm-driven-search/news.txt\").text\n",
        "\n",
        "articles_embedding = {}\n",
        "articles = {}\n",
        "\n",
        "for article in raw.split('\\n\\n'):\n",
        "  headline, content = article.split(': ', 1) # split only once\n",
        "  articles_embedding[headline] = llm.embed(content.rstrip())\n",
        "  articles[headline] = content.rstrip() # for later use\n",
        "\n",
        "articles_embedding['Tech Giant Unveils New Smartphone'][:10] # seek the first 10 elements"
      ],
      "metadata": {
        "colab": {
          "base_uri": "https://localhost:8080/"
        },
        "id": "8EET_ILuOrsa",
        "outputId": "5d367848-5a63-4e02-c0e6-027dbe912427"
      },
      "execution_count": 5,
      "outputs": [
        {
          "output_type": "execute_result",
          "data": {
            "text/plain": [
              "[3.9915895462036133,\n",
              " -0.1599380075931549,\n",
              " -1.5899579524993896,\n",
              " -4.616470813751221,\n",
              " 3.012430191040039,\n",
              " 2.807080030441284,\n",
              " -7.527080535888672,\n",
              " 4.350589275360107,\n",
              " 1.337077260017395,\n",
              " -2.4558181762695312]"
            ]
          },
          "metadata": {},
          "execution_count": 5
        }
      ]
    },
    {
      "cell_type": "code",
      "source": [
        "query = \"local bakery has won a national award\" # try changing it to 'bread'\n",
        "query_embedding = llm.embed(query)\n",
        "\n",
        "query_embedding[:10] # seek the first 10 elements"
      ],
      "metadata": {
        "colab": {
          "base_uri": "https://localhost:8080/"
        },
        "id": "O_2XnPKSO-Ng",
        "outputId": "94b7a3df-eaf0-48e6-a6f0-5fb5d0faebbc"
      },
      "execution_count": 6,
      "outputs": [
        {
          "output_type": "execute_result",
          "data": {
            "text/plain": [
              "[7.658850193023682,\n",
              " -0.482549250125885,\n",
              " -1.4958086013793945,\n",
              " -6.7047038078308105,\n",
              " 4.035302639007568,\n",
              " -14.987481117248535,\n",
              " 5.255115032196045,\n",
              " -1.1684120893478394,\n",
              " -0.49455752968788147,\n",
              " 2.9078805446624756]"
            ]
          },
          "metadata": {},
          "execution_count": 6
        }
      ]
    },
    {
      "cell_type": "markdown",
      "source": [
        "## Cosine Similarities\n",
        "\n",
        "C'mon, I spent two days drawing those pictures (and asking ChatGPT how to explain cosine similarities to a 10-year-old)."
      ],
      "metadata": {
        "id": "TFEesY6vPKxU"
      }
    },
    {
      "cell_type": "code",
      "source": [
        "import torch\n",
        "\n",
        "def cos_sim(a: torch.Tensor, b: torch.Tensor) -> torch.Tensor:\n",
        "  # convert to matrix\n",
        "  if len(a.shape) == 1:\n",
        "      a = a.unsqueeze(0)\n",
        "\n",
        "  if len(b.shape) == 1:\n",
        "      b = b.unsqueeze(0)\n",
        "\n",
        "  a_norm = torch.nn.functional.normalize(a, p=2, dim=1)\n",
        "  b_norm = torch.nn.functional.normalize(b, p=2, dim=1)\n",
        "  return torch.mm(a_norm, b_norm.transpose(0, 1))"
      ],
      "metadata": {
        "id": "lkWylNjqPRIM"
      },
      "execution_count": 7,
      "outputs": []
    },
    {
      "cell_type": "code",
      "source": [
        "em_tensor_query = torch.tensor(query_embedding)\n",
        "\n",
        "sim_scores = {\n",
        "  title: cos_sim(\n",
        "    em_tensor_query,\n",
        "    torch.tensor(embed)\n",
        "  )\n",
        "  for title, embed in articles_embedding.items()\n",
        "}\n",
        "\n",
        "sim_scores"
      ],
      "metadata": {
        "colab": {
          "base_uri": "https://localhost:8080/"
        },
        "id": "H-fx0kkiPZsb",
        "outputId": "989fdba8-9d9a-44e8-88d2-91af0bcaa4ec"
      },
      "execution_count": 8,
      "outputs": [
        {
          "output_type": "execute_result",
          "data": {
            "text/plain": [
              "{'Tech Giant Unveils New Smartphone': tensor([[0.1618]]),\n",
              " 'Local Bakery Wins National Award': tensor([[0.3040]]),\n",
              " 'Scientists Discover New Species': tensor([[0.2108]]),\n",
              " 'New Study Highlights Benefits of Exercise': tensor([[0.1611]]),\n",
              " 'City Plans New Public Park': tensor([[0.1682]])}"
            ]
          },
          "metadata": {},
          "execution_count": 8
        }
      ]
    },
    {
      "cell_type": "code",
      "source": [
        "results = sorted(sim_scores.items(), reverse=True, key=lambda x: x[1])\n",
        "\n",
        "results"
      ],
      "metadata": {
        "colab": {
          "base_uri": "https://localhost:8080/"
        },
        "id": "6iuKs7awQecK",
        "outputId": "a191863e-0557-424b-fdc7-6cc3aa0348fc"
      },
      "execution_count": 9,
      "outputs": [
        {
          "output_type": "execute_result",
          "data": {
            "text/plain": [
              "[('Local Bakery Wins National Award', tensor([[0.3040]])),\n",
              " ('Scientists Discover New Species', tensor([[0.2108]])),\n",
              " ('City Plans New Public Park', tensor([[0.1682]])),\n",
              " ('Tech Giant Unveils New Smartphone', tensor([[0.1618]])),\n",
              " ('New Study Highlights Benefits of Exercise', tensor([[0.1611]]))]"
            ]
          },
          "metadata": {},
          "execution_count": 9
        }
      ]
    },
    {
      "cell_type": "code",
      "source": [
        "for (title, value) in results:\n",
        "  percentage = value.tolist()[0][0] * 100\n",
        "\n",
        "  print(title, f\"({percentage:.1f}%)\")\n",
        "  print(articles[title])\n",
        "  print()"
      ],
      "metadata": {
        "colab": {
          "base_uri": "https://localhost:8080/"
        },
        "id": "GpzR_10gQ2y7",
        "outputId": "4fdb3f9a-6450-4bfb-df8f-7a2ef73f5d2f"
      },
      "execution_count": 10,
      "outputs": [
        {
          "output_type": "stream",
          "name": "stdout",
          "text": [
            "Local Bakery Wins National Award (30.4%)\n",
            "The Sweet Treats Bakery, a local favorite, has won a national award for its delicious pastries. The bakery, which has been in operation for over a decade, was recognized for its innovative flavor combinations and commitment to using high-quality ingredients.\n",
            "\n",
            "Scientists Discover New Species (21.1%)\n",
            "A team of scientists from the University of ABC has discovered a new species of frog in the Amazon rainforest. The frog, which has a unique blue coloration, was found during a recent research expedition. The discovery highlights the rich biodiversity of the Amazon and the importance of conservation efforts.\n",
            "\n",
            "City Plans New Public Park (16.8%)\n",
            "The city council has approved plans for a new public park in the downtown area. The park, which will feature walking trails, picnic areas, and a playground, is expected to open next summer. The city hopes the park will provide a new recreational space for residents and help to revitalize the downtown area.\n",
            "\n",
            "Tech Giant Unveils New Smartphone (16.2%)\n",
            "Tech giant XYZ Corp. unveiled its latest smartphone model yesterday, boasting a longer battery life and a more powerful processor. The new model also features an improved camera system and a sleek design. The company's CEO stated that the new model represents a significant step forward in smartphone technology.\n",
            "\n",
            "New Study Highlights Benefits of Exercise (16.1%)\n",
            "A new study published in the Journal of Health and Wellness has found that regular exercise can significantly reduce the risk of heart disease. The study, which followed 10,000 participants over a decade, found that those who exercised regularly had a 30% lower risk of heart disease compared to those who did not.\n",
            "\n"
          ]
        }
      ]
    }
  ]
}